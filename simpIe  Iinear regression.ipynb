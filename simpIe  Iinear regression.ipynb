{
 "cells": [
  {
   "cell_type": "code",
   "execution_count": 1,
   "metadata": {},
   "outputs": [],
   "source": [
    "# For reading data set\n",
    "# importing necessary libraries\n",
    "import pandas as pd \n",
    "import numpy as np\n",
    "import matplotlib.pyplot as plt"
   ]
  },
  {
   "cell_type": "code",
   "execution_count": 2,
   "metadata": {},
   "outputs": [
    {
     "data": {
      "text/plain": [
       "Index(['Waist', 'AT'], dtype='object')"
      ]
     },
     "execution_count": 2,
     "metadata": {},
     "output_type": "execute_result"
    }
   ],
   "source": [
    "wcat=pd.read_csv(\"C:\\\\Users\\\\admin\\\\Desktop\\\\excer\\\\python machine erning\\\\simpIe Iinear regresstion\\\\wc-at.csv\")\n",
    "wcat.columns"
   ]
  },
  {
   "cell_type": "code",
   "execution_count": 3,
   "metadata": {},
   "outputs": [
    {
     "data": {
      "text/plain": [
       "(array([ 2.,  9., 19., 17., 11.,  9., 13., 21.,  5.,  3.]),\n",
       " array([ 63.5 ,  69.25,  75.  ,  80.75,  86.5 ,  92.25,  98.  , 103.75,\n",
       "        109.5 , 115.25, 121.  ]),\n",
       " <a list of 10 Patch objects>)"
      ]
     },
     "execution_count": 3,
     "metadata": {},
     "output_type": "execute_result"
    },
    {
     "data": {
      "image/png": "[encoded data removed]",
      "text/plain": [
       "<Figure size 432x288 with 1 Axes>"
      ]
     },
     "metadata": {
      "needs_background": "light"
     },
     "output_type": "display_data"
    }
   ],
   "source": [
    "plt.hist(wcat.Waist)"
   ]
  },
  {
   "cell_type": "code",
   "execution_count": 4,
   "metadata": {},
   "outputs": [
    {
     "data": {
      "text/plain": [
       "{'whiskers': [<matplotlib.lines.Line2D at 0x1d55c1b88c8>,\n",
       "  <matplotlib.lines.Line2D at 0x1d55c1b8e48>],\n",
       " 'caps': [<matplotlib.lines.Line2D at 0x1d55c1b8f48>,\n",
       "  <matplotlib.lines.Line2D at 0x1d55c1bf948>],\n",
       " 'boxes': [<matplotlib.lines.Line2D at 0x1d55c1a0f48>],\n",
       " 'medians': [<matplotlib.lines.Line2D at 0x1d55c1bfa48>],\n",
       " 'fliers': [<matplotlib.lines.Line2D at 0x1d55c1c68c8>],\n",
       " 'means': []}"
      ]
     },
     "execution_count": 4,
     "metadata": {},
     "output_type": "execute_result"
    },
    {
     "data": {
      "image/png": "[encoded data removed]",
      "text/plain": [
       "<Figure size 432x288 with 1 Axes>"
      ]
     },
     "metadata": {
      "needs_background": "light"
     },
     "output_type": "display_data"
    }
   ],
   "source": [
    "plt.boxplot(wcat.Waist,0,\"rs\",0)"
   ]
  },
  {
   "cell_type": "code",
   "execution_count": 5,
   "metadata": {},
   "outputs": [
    {
     "data": {
      "text/plain": [
       "(array([14., 18., 16., 13., 17., 14.,  4.,  6.,  3.,  4.]),\n",
       " array([ 11.44 ,  35.596,  59.752,  83.908, 108.064, 132.22 , 156.376,\n",
       "        180.532, 204.688, 228.844, 253.   ]),\n",
       " <a list of 10 Patch objects>)"
      ]
     },
     "execution_count": 5,
     "metadata": {},
     "output_type": "execute_result"
    },
    {
     "data": {
      "image/png": "[encoded data removed]",
      "text/plain": [
       "<Figure size 432x288 with 1 Axes>"
      ]
     },
     "metadata": {
      "needs_background": "light"
     },
     "output_type": "display_data"
    }
   ],
   "source": [
    "plt.hist(wcat.AT)"
   ]
  },
  {
   "cell_type": "code",
   "execution_count": 6,
   "metadata": {},
   "outputs": [
    {
     "data": {
      "text/plain": [
       "{'whiskers': [<matplotlib.lines.Line2D at 0x1d55c2ada08>,\n",
       "  <matplotlib.lines.Line2D at 0x1d55c2adb08>],\n",
       " 'caps': [<matplotlib.lines.Line2D at 0x1d55c2b19c8>,\n",
       "  <matplotlib.lines.Line2D at 0x1d55c2b1ac8>],\n",
       " 'boxes': [<matplotlib.lines.Line2D at 0x1d55c29c408>],\n",
       " 'medians': [<matplotlib.lines.Line2D at 0x1d55c2b6948>],\n",
       " 'fliers': [<matplotlib.lines.Line2D at 0x1d55c2b6fc8>],\n",
       " 'means': []}"
      ]
     },
     "execution_count": 6,
     "metadata": {},
     "output_type": "execute_result"
    },
    {
     "data": {
      "image/png": "[encoded data removed]",
      "text/plain": [
       "<Figure size 432x288 with 1 Axes>"
      ]
     },
     "metadata": {
      "needs_background": "light"
     },
     "output_type": "display_data"
    }
   ],
   "source": [
    "plt.boxplot(wcat.AT)"
   ]
  },
  {
   "cell_type": "code",
   "execution_count": 7,
   "metadata": {},
   "outputs": [
    {
     "data": {
      "text/plain": [
       "Text(0, 0.5, 'AT')"
      ]
     },
     "execution_count": 7,
     "metadata": {},
     "output_type": "execute_result"
    },
    {
     "data": {
      "image/png": "[encoded data removed]",
      "text/plain": [
       "<Figure size 432x288 with 1 Axes>"
      ]
     },
     "metadata": {
      "needs_background": "light"
     },
     "output_type": "display_data"
    }
   ],
   "source": [
    "plt.plot(wcat.Waist,wcat.AT,\"bo\");plt.xlabel(\"Waist\");plt.ylabel(\"AT\")"
   ]
  },
  {
   "cell_type": "code",
   "execution_count": 8,
   "metadata": {},
   "outputs": [
    {
     "data": {
      "text/plain": [
       "0.8185578128958532"
      ]
     },
     "execution_count": 8,
     "metadata": {},
     "output_type": "execute_result"
    }
   ],
   "source": [
    "wcat.AT.corr(wcat.Waist) # # correlation value between X and Y"
   ]
  },
  {
   "cell_type": "code",
   "execution_count": 9,
   "metadata": {},
   "outputs": [
    {
     "data": {
      "text/plain": [
       "array([[1.        , 0.81855781],\n",
       "       [0.81855781, 1.        ]])"
      ]
     },
     "execution_count": 9,
     "metadata": {},
     "output_type": "execute_result"
    }
   ],
   "source": [
    "np.corrcoef(wcat.AT,wcat.Waist)"
   ]
  },
  {
   "cell_type": "code",
   "execution_count": 10,
   "metadata": {},
   "outputs": [],
   "source": [
    "# For preparing linear regression model we need to import the statsmodels.formula.api\n",
    "import statsmodels.formula.api as smf\n",
    "model=smf.ols(\"AT~Waist\",data=wcat).fit()"
   ]
  },
  {
   "cell_type": "code",
   "execution_count": 11,
   "metadata": {},
   "outputs": [
    {
     "data": {
      "text/plain": [
       "Intercept   -215.981488\n",
       "Waist          3.458859\n",
       "dtype: float64"
      ]
     },
     "execution_count": 11,
     "metadata": {},
     "output_type": "execute_result"
    }
   ],
   "source": [
    "# For getting coefficients of the varibles used in equation\n",
    "model.params"
   ]
  },
  {
   "cell_type": "code",
   "execution_count": 12,
   "metadata": {},
   "outputs": [
    {
     "data": {
      "text/html": [
       "<table class=\"simpletable\">\n",
       "<caption>OLS Regression Results</caption>\n",
       "<tr>\n",
       "  <th>Dep. Variable:</th>           <td>AT</td>        <th>  R-squared:         </th> <td>   0.670</td>\n",
       "</tr>\n",
       "<tr>\n",
       "  <th>Model:</th>                   <td>OLS</td>       <th>  Adj. R-squared:    </th> <td>   0.667</td>\n",
       "</tr>\n",
       "<tr>\n",
       "  <th>Method:</th>             <td>Least Squares</td>  <th>  F-statistic:       </th> <td>   217.3</td>\n",
       "</tr>\n",
       "<tr>\n",
       "  <th>Date:</th>             <td>Tue, 04 Aug 2020</td> <th>  Prob (F-statistic):</th> <td>1.62e-27</td>\n",
       "</tr>\n",
       "<tr>\n",
       "  <th>Time:</th>                 <td>12:39:59</td>     <th>  Log-Likelihood:    </th> <td> -534.99</td>\n",
       "</tr>\n",
       "<tr>\n",
       "  <th>No. Observations:</th>      <td>   109</td>      <th>  AIC:               </th> <td>   1074.</td>\n",
       "</tr>\n",
       "<tr>\n",
       "  <th>Df Residuals:</th>          <td>   107</td>      <th>  BIC:               </th> <td>   1079.</td>\n",
       "</tr>\n",
       "<tr>\n",
       "  <th>Df Model:</th>              <td>     1</td>      <th>                     </th>     <td> </td>   \n",
       "</tr>\n",
       "<tr>\n",
       "  <th>Covariance Type:</th>      <td>nonrobust</td>    <th>                     </th>     <td> </td>   \n",
       "</tr>\n",
       "</table>\n",
       "<table class=\"simpletable\">\n",
       "<tr>\n",
       "      <td></td>         <th>coef</th>     <th>std err</th>      <th>t</th>      <th>P>|t|</th>  <th>[0.025</th>    <th>0.975]</th>  \n",
       "</tr>\n",
       "<tr>\n",
       "  <th>Intercept</th> <td> -215.9815</td> <td>   21.796</td> <td>   -9.909</td> <td> 0.000</td> <td> -259.190</td> <td> -172.773</td>\n",
       "</tr>\n",
       "<tr>\n",
       "  <th>Waist</th>     <td>    3.4589</td> <td>    0.235</td> <td>   14.740</td> <td> 0.000</td> <td>    2.994</td> <td>    3.924</td>\n",
       "</tr>\n",
       "</table>\n",
       "<table class=\"simpletable\">\n",
       "<tr>\n",
       "  <th>Omnibus:</th>       <td> 3.960</td> <th>  Durbin-Watson:     </th> <td>   1.560</td>\n",
       "</tr>\n",
       "<tr>\n",
       "  <th>Prob(Omnibus):</th> <td> 0.138</td> <th>  Jarque-Bera (JB):  </th> <td>   4.596</td>\n",
       "</tr>\n",
       "<tr>\n",
       "  <th>Skew:</th>          <td> 0.104</td> <th>  Prob(JB):          </th> <td>   0.100</td>\n",
       "</tr>\n",
       "<tr>\n",
       "  <th>Kurtosis:</th>      <td> 3.984</td> <th>  Cond. No.          </th> <td>    639.</td>\n",
       "</tr>\n",
       "</table><br/><br/>Warnings:<br/>[1] Standard Errors assume that the covariance matrix of the errors is correctly specified."
      ],
      "text/plain": [
       "<class 'statsmodels.iolib.summary.Summary'>\n",
       "\"\"\"\n",
       "                            OLS Regression Results                            \n",
       "==============================================================================\n",
       "Dep. Variable:                     AT   R-squared:                       0.670\n",
       "Model:                            OLS   Adj. R-squared:                  0.667\n",
       "Method:                 Least Squares   F-statistic:                     217.3\n",
       "Date:                Tue, 04 Aug 2020   Prob (F-statistic):           1.62e-27\n",
       "Time:                        12:39:59   Log-Likelihood:                -534.99\n",
       "No. Observations:                 109   AIC:                             1074.\n",
       "Df Residuals:                     107   BIC:                             1079.\n",
       "Df Model:                           1                                         \n",
       "Covariance Type:            nonrobust                                         \n",
       "==============================================================================\n",
       "                 coef    std err          t      P>|t|      [0.025      0.975]\n",
       "------------------------------------------------------------------------------\n",
       "Intercept   -215.9815     21.796     -9.909      0.000    -259.190    -172.773\n",
       "Waist          3.4589      0.235     14.740      0.000       2.994       3.924\n",
       "==============================================================================\n",
       "Omnibus:                        3.960   Durbin-Watson:                   1.560\n",
       "Prob(Omnibus):                  0.138   Jarque-Bera (JB):                4.596\n",
       "Skew:                           0.104   Prob(JB):                        0.100\n",
       "Kurtosis:                       3.984   Cond. No.                         639.\n",
       "==============================================================================\n",
       "\n",
       "Warnings:\n",
       "[1] Standard Errors assume that the covariance matrix of the errors is correctly specified.\n",
       "\"\"\""
      ]
     },
     "execution_count": 12,
     "metadata": {},
     "output_type": "execute_result"
    }
   ],
   "source": [
    "# P-values for the variables and R-squared value for prepared model\n",
    "model.summary()"
   ]
  },
  {
   "cell_type": "code",
   "execution_count": 13,
   "metadata": {},
   "outputs": [
    {
     "data": {
      "text/html": [
       "<div>\n",
       "<style scoped>\n",
       "    .dataframe tbody tr th:only-of-type {\n",
       "        vertical-align: middle;\n",
       "    }\n",
       "\n",
       "    .dataframe tbody tr th {\n",
       "        vertical-align: top;\n",
       "    }\n",
       "\n",
       "    .dataframe thead th {\n",
       "        text-align: right;\n",
       "    }\n",
       "</style>\n",
       "<table border=\"1\" class=\"dataframe\">\n",
       "  <thead>\n",
       "    <tr style=\"text-align: right;\">\n",
       "      <th></th>\n",
       "      <th>0</th>\n",
       "      <th>1</th>\n",
       "    </tr>\n",
       "  </thead>\n",
       "  <tbody>\n",
       "    <tr>\n",
       "      <th>Intercept</th>\n",
       "      <td>-259.190053</td>\n",
       "      <td>-172.772923</td>\n",
       "    </tr>\n",
       "    <tr>\n",
       "      <th>Waist</th>\n",
       "      <td>2.993689</td>\n",
       "      <td>3.924030</td>\n",
       "    </tr>\n",
       "  </tbody>\n",
       "</table>\n",
       "</div>"
      ],
      "text/plain": [
       "                    0           1\n",
       "Intercept -259.190053 -172.772923\n",
       "Waist        2.993689    3.924030"
      ]
     },
     "execution_count": 13,
     "metadata": {},
     "output_type": "execute_result"
    }
   ],
   "source": [
    "\n",
    "model.conf_int(0.05) # 95% confidence interval"
   ]
  },
  {
   "cell_type": "code",
   "execution_count": 14,
   "metadata": {},
   "outputs": [],
   "source": [
    "pred = model.predict(wcat.iloc[:,0]) # Predicted values of AT using the model"
   ]
  },
  {
   "cell_type": "code",
   "execution_count": 15,
   "metadata": {},
   "outputs": [
    {
     "data": {
      "text/plain": [
       "Text(0, 0.5, 'TISSUE')"
      ]
     },
     "execution_count": 15,
     "metadata": {},
     "output_type": "execute_result"
    },
    {
     "data": {
      "image/png": "[encoded data removed]",
      "text/plain": [
       "<Figure size 432x288 with 1 Axes>"
      ]
     },
     "metadata": {
      "needs_background": "light"
     },
     "output_type": "display_data"
    }
   ],
   "source": [
    "# Visualization of regresion line over the scatter plot of Waist and AT\n",
    "# For visualization we need to import matplotlib.pyplot\n",
    "import matplotlib.pylab as plt\n",
    "plt.scatter(x=wcat['Waist'],y=wcat['AT'],color='red');plt.plot(wcat['Waist'],pred,color='black');plt.xlabel('WAIST');plt.ylabel('TISSUE')\n"
   ]
  },
  {
   "cell_type": "code",
   "execution_count": 16,
   "metadata": {},
   "outputs": [
    {
     "data": {
      "text/plain": [
       "0.8185578128958535"
      ]
     },
     "execution_count": 16,
     "metadata": {},
     "output_type": "execute_result"
    }
   ],
   "source": [
    "pred.corr(wcat.AT)"
   ]
  },
  {
   "cell_type": "code",
   "execution_count": 17,
   "metadata": {},
   "outputs": [
    {
     "data": {
      "text/plain": [
       "Intercept       -1328.341989\n",
       "np.log(Waist)     317.135564\n",
       "dtype: float64"
      ]
     },
     "execution_count": 17,
     "metadata": {},
     "output_type": "execute_result"
    }
   ],
   "source": [
    "# Transforming variables for accuracy\n",
    "model2 = smf.ols('AT~np.log(Waist)',data=wcat).fit()\n",
    "model2.params"
   ]
  },
  {
   "cell_type": "code",
   "execution_count": 18,
   "metadata": {},
   "outputs": [
    {
     "data": {
      "text/html": [
       "<table class=\"simpletable\">\n",
       "<caption>OLS Regression Results</caption>\n",
       "<tr>\n",
       "  <th>Dep. Variable:</th>           <td>AT</td>        <th>  R-squared:         </th> <td>   0.675</td>\n",
       "</tr>\n",
       "<tr>\n",
       "  <th>Model:</th>                   <td>OLS</td>       <th>  Adj. R-squared:    </th> <td>   0.672</td>\n",
       "</tr>\n",
       "<tr>\n",
       "  <th>Method:</th>             <td>Least Squares</td>  <th>  F-statistic:       </th> <td>   222.6</td>\n",
       "</tr>\n",
       "<tr>\n",
       "  <th>Date:</th>             <td>Wed, 05 Aug 2020</td> <th>  Prob (F-statistic):</th> <td>6.80e-28</td>\n",
       "</tr>\n",
       "<tr>\n",
       "  <th>Time:</th>                 <td>02:51:51</td>     <th>  Log-Likelihood:    </th> <td> -534.11</td>\n",
       "</tr>\n",
       "<tr>\n",
       "  <th>No. Observations:</th>      <td>   109</td>      <th>  AIC:               </th> <td>   1072.</td>\n",
       "</tr>\n",
       "<tr>\n",
       "  <th>Df Residuals:</th>          <td>   107</td>      <th>  BIC:               </th> <td>   1078.</td>\n",
       "</tr>\n",
       "<tr>\n",
       "  <th>Df Model:</th>              <td>     1</td>      <th>                     </th>     <td> </td>   \n",
       "</tr>\n",
       "<tr>\n",
       "  <th>Covariance Type:</th>      <td>nonrobust</td>    <th>                     </th>     <td> </td>   \n",
       "</tr>\n",
       "</table>\n",
       "<table class=\"simpletable\">\n",
       "<tr>\n",
       "        <td></td>           <th>coef</th>     <th>std err</th>      <th>t</th>      <th>P>|t|</th>  <th>[0.025</th>    <th>0.975]</th>  \n",
       "</tr>\n",
       "<tr>\n",
       "  <th>Intercept</th>     <td>-1328.3420</td> <td>   95.923</td> <td>  -13.848</td> <td> 0.000</td> <td>-1518.498</td> <td>-1138.186</td>\n",
       "</tr>\n",
       "<tr>\n",
       "  <th>np.log(Waist)</th> <td>  317.1356</td> <td>   21.258</td> <td>   14.918</td> <td> 0.000</td> <td>  274.994</td> <td>  359.277</td>\n",
       "</tr>\n",
       "</table>\n",
       "<table class=\"simpletable\">\n",
       "<tr>\n",
       "  <th>Omnibus:</th>       <td> 3.317</td> <th>  Durbin-Watson:     </th> <td>   1.599</td>\n",
       "</tr>\n",
       "<tr>\n",
       "  <th>Prob(Omnibus):</th> <td> 0.190</td> <th>  Jarque-Bera (JB):  </th> <td>   2.908</td>\n",
       "</tr>\n",
       "<tr>\n",
       "  <th>Skew:</th>          <td> 0.235</td> <th>  Prob(JB):          </th> <td>   0.234</td>\n",
       "</tr>\n",
       "<tr>\n",
       "  <th>Kurtosis:</th>      <td> 3.647</td> <th>  Cond. No.          </th> <td>    145.</td>\n",
       "</tr>\n",
       "</table><br/><br/>Warnings:<br/>[1] Standard Errors assume that the covariance matrix of the errors is correctly specified."
      ],
      "text/plain": [
       "<class 'statsmodels.iolib.summary.Summary'>\n",
       "\"\"\"\n",
       "                            OLS Regression Results                            \n",
       "==============================================================================\n",
       "Dep. Variable:                     AT   R-squared:                       0.675\n",
       "Model:                            OLS   Adj. R-squared:                  0.672\n",
       "Method:                 Least Squares   F-statistic:                     222.6\n",
       "Date:                Wed, 05 Aug 2020   Prob (F-statistic):           6.80e-28\n",
       "Time:                        02:51:51   Log-Likelihood:                -534.11\n",
       "No. Observations:                 109   AIC:                             1072.\n",
       "Df Residuals:                     107   BIC:                             1078.\n",
       "Df Model:                           1                                         \n",
       "Covariance Type:            nonrobust                                         \n",
       "=================================================================================\n",
       "                    coef    std err          t      P>|t|      [0.025      0.975]\n",
       "---------------------------------------------------------------------------------\n",
       "Intercept     -1328.3420     95.923    -13.848      0.000   -1518.498   -1138.186\n",
       "np.log(Waist)   317.1356     21.258     14.918      0.000     274.994     359.277\n",
       "==============================================================================\n",
       "Omnibus:                        3.317   Durbin-Watson:                   1.599\n",
       "Prob(Omnibus):                  0.190   Jarque-Bera (JB):                2.908\n",
       "Skew:                           0.235   Prob(JB):                        0.234\n",
       "Kurtosis:                       3.647   Cond. No.                         145.\n",
       "==============================================================================\n",
       "\n",
       "Warnings:\n",
       "[1] Standard Errors assume that the covariance matrix of the errors is correctly specified.\n",
       "\"\"\""
      ]
     },
     "execution_count": 18,
     "metadata": {},
     "output_type": "execute_result"
    }
   ],
   "source": [
    "model2.summary()"
   ]
  },
  {
   "cell_type": "code",
   "execution_count": 19,
   "metadata": {},
   "outputs": [
    {
     "name": "stdout",
     "output_type": "stream",
     "text": [
      "                         0            1\n",
      "Intercept     -1579.905632 -1076.778346\n",
      "np.log(Waist)   261.384641   372.886487\n"
     ]
    }
   ],
   "source": [
    "print(model2.conf_int(0.01))"
   ]
  },
  {
   "cell_type": "code",
   "execution_count": 23,
   "metadata": {},
   "outputs": [],
   "source": [
    "my_str=\"pu33333\""
   ]
  },
  {
   "cell_type": "code",
   "execution_count": 24,
   "metadata": {},
   "outputs": [
    {
     "data": {
      "text/plain": [
       "True"
      ]
     },
     "execution_count": 24,
     "metadata": {},
     "output_type": "execute_result"
    }
   ],
   "source": [
    "my_str.isalnum()"
   ]
  },
  {
   "cell_type": "code",
   "execution_count": 25,
   "metadata": {},
   "outputs": [
    {
     "name": "stdout",
     "output_type": "stream",
     "text": [
      "                         0            1\n",
      "Intercept     -1579.905632 -1076.778346\n",
      "np.log(Waist)   261.384641   372.886487\n"
     ]
    }
   ],
   "source": [
    "print(model2.conf_int(0.01))"
   ]
  },
  {
   "cell_type": "code",
   "execution_count": 26,
   "metadata": {},
   "outputs": [],
   "source": [
    "pred2=model2.predict(pd.DataFrame(wcat['Waist']))"
   ]
  },
  {
   "cell_type": "code",
   "execution_count": 27,
   "metadata": {},
   "outputs": [
    {
     "data": {
      "text/plain": [
       "0.8217781862645354"
      ]
     },
     "execution_count": 27,
     "metadata": {},
     "output_type": "execute_result"
    }
   ],
   "source": [
    "pred2.corr(wcat.AT)"
   ]
  },
  {
   "cell_type": "code",
   "execution_count": 28,
   "metadata": {},
   "outputs": [
    {
     "data": {
      "text/plain": [
       "0       39.828156\n",
       "1       30.572779\n",
       "2       68.410960\n",
       "3       76.638769\n",
       "4       39.403610\n",
       "          ...    \n",
       "104    132.438233\n",
       "105    110.127880\n",
       "106    137.778929\n",
       "107    156.234559\n",
       "108    157.993171\n",
       "Length: 109, dtype: float64"
      ]
     },
     "execution_count": 28,
     "metadata": {},
     "output_type": "execute_result"
    }
   ],
   "source": [
    "pred2"
   ]
  },
  {
   "cell_type": "code",
   "execution_count": 29,
   "metadata": {},
   "outputs": [
    {
     "data": {
      "text/plain": [
       "Text(0, 0.5, 'TISSUE')"
      ]
     },
     "execution_count": 29,
     "metadata": {},
     "output_type": "execute_result"
    },
    {
     "data": {
      "image/png": "[encoded data removed]",
      "text/plain": [
       "<Figure size 432x288 with 1 Axes>"
      ]
     },
     "metadata": {
      "needs_background": "light"
     },
     "output_type": "display_data"
    }
   ],
   "source": [
    "plt.scatter(x=wcat['Waist'],y=wcat['AT'],color='green');plt.plot(wcat['Waist'],pred2,color='blue');plt.xlabel('WAIST');plt.ylabel('TISSUE')\n"
   ]
  },
  {
   "cell_type": "code",
   "execution_count": 30,
   "metadata": {},
   "outputs": [
    {
     "data": {
      "text/html": [
       "<table class=\"simpletable\">\n",
       "<caption>OLS Regression Results</caption>\n",
       "<tr>\n",
       "  <th>Dep. Variable:</th>       <td>np.log(AT)</td>    <th>  R-squared:         </th> <td>   0.707</td>\n",
       "</tr>\n",
       "<tr>\n",
       "  <th>Model:</th>                   <td>OLS</td>       <th>  Adj. R-squared:    </th> <td>   0.704</td>\n",
       "</tr>\n",
       "<tr>\n",
       "  <th>Method:</th>             <td>Least Squares</td>  <th>  F-statistic:       </th> <td>   258.3</td>\n",
       "</tr>\n",
       "<tr>\n",
       "  <th>Date:</th>             <td>Wed, 05 Aug 2020</td> <th>  Prob (F-statistic):</th> <td>2.68e-30</td>\n",
       "</tr>\n",
       "<tr>\n",
       "  <th>Time:</th>                 <td>08:48:42</td>     <th>  Log-Likelihood:    </th> <td> -40.123</td>\n",
       "</tr>\n",
       "<tr>\n",
       "  <th>No. Observations:</th>      <td>   109</td>      <th>  AIC:               </th> <td>   84.25</td>\n",
       "</tr>\n",
       "<tr>\n",
       "  <th>Df Residuals:</th>          <td>   107</td>      <th>  BIC:               </th> <td>   89.63</td>\n",
       "</tr>\n",
       "<tr>\n",
       "  <th>Df Model:</th>              <td>     1</td>      <th>                     </th>     <td> </td>   \n",
       "</tr>\n",
       "<tr>\n",
       "  <th>Covariance Type:</th>      <td>nonrobust</td>    <th>                     </th>     <td> </td>   \n",
       "</tr>\n",
       "</table>\n",
       "<table class=\"simpletable\">\n",
       "<tr>\n",
       "      <td></td>         <th>coef</th>     <th>std err</th>      <th>t</th>      <th>P>|t|</th>  <th>[0.025</th>    <th>0.975]</th>  \n",
       "</tr>\n",
       "<tr>\n",
       "  <th>Intercept</th> <td>    0.7410</td> <td>    0.233</td> <td>    3.185</td> <td> 0.002</td> <td>    0.280</td> <td>    1.202</td>\n",
       "</tr>\n",
       "<tr>\n",
       "  <th>Waist</th>     <td>    0.0403</td> <td>    0.003</td> <td>   16.073</td> <td> 0.000</td> <td>    0.035</td> <td>    0.045</td>\n",
       "</tr>\n",
       "</table>\n",
       "<table class=\"simpletable\">\n",
       "<tr>\n",
       "  <th>Omnibus:</th>       <td> 2.604</td> <th>  Durbin-Watson:     </th> <td>   1.201</td>\n",
       "</tr>\n",
       "<tr>\n",
       "  <th>Prob(Omnibus):</th> <td> 0.272</td> <th>  Jarque-Bera (JB):  </th> <td>   2.117</td>\n",
       "</tr>\n",
       "<tr>\n",
       "  <th>Skew:</th>          <td>-0.329</td> <th>  Prob(JB):          </th> <td>   0.347</td>\n",
       "</tr>\n",
       "<tr>\n",
       "  <th>Kurtosis:</th>      <td> 3.182</td> <th>  Cond. No.          </th> <td>    639.</td>\n",
       "</tr>\n",
       "</table><br/><br/>Warnings:<br/>[1] Standard Errors assume that the covariance matrix of the errors is correctly specified."
      ],
      "text/plain": [
       "<class 'statsmodels.iolib.summary.Summary'>\n",
       "\"\"\"\n",
       "                            OLS Regression Results                            \n",
       "==============================================================================\n",
       "Dep. Variable:             np.log(AT)   R-squared:                       0.707\n",
       "Model:                            OLS   Adj. R-squared:                  0.704\n",
       "Method:                 Least Squares   F-statistic:                     258.3\n",
       "Date:                Wed, 05 Aug 2020   Prob (F-statistic):           2.68e-30\n",
       "Time:                        08:48:42   Log-Likelihood:                -40.123\n",
       "No. Observations:                 109   AIC:                             84.25\n",
       "Df Residuals:                     107   BIC:                             89.63\n",
       "Df Model:                           1                                         \n",
       "Covariance Type:            nonrobust                                         \n",
       "==============================================================================\n",
       "                 coef    std err          t      P>|t|      [0.025      0.975]\n",
       "------------------------------------------------------------------------------\n",
       "Intercept      0.7410      0.233      3.185      0.002       0.280       1.202\n",
       "Waist          0.0403      0.003     16.073      0.000       0.035       0.045\n",
       "==============================================================================\n",
       "Omnibus:                        2.604   Durbin-Watson:                   1.201\n",
       "Prob(Omnibus):                  0.272   Jarque-Bera (JB):                2.117\n",
       "Skew:                          -0.329   Prob(JB):                        0.347\n",
       "Kurtosis:                       3.182   Cond. No.                         639.\n",
       "==============================================================================\n",
       "\n",
       "Warnings:\n",
       "[1] Standard Errors assume that the covariance matrix of the errors is correctly specified.\n",
       "\"\"\""
      ]
     },
     "execution_count": 30,
     "metadata": {},
     "output_type": "execute_result"
    }
   ],
   "source": [
    "# Exponential transformation\n",
    "model3 = smf.ols('np.log(AT)~Waist',data=wcat).fit()\n",
    "model3.params\n",
    "model3.summary()"
   ]
  },
  {
   "cell_type": "code",
   "execution_count": 31,
   "metadata": {},
   "outputs": [
    {
     "name": "stdout",
     "output_type": "stream",
     "text": [
      "                  0         1\n",
      "Intercept  0.130939  1.351102\n",
      "Waist      0.033684  0.046820\n"
     ]
    },
    {
     "data": {
      "text/plain": [
       "0      3.749889\n",
       "1      3.663346\n",
       "2      4.033669\n",
       "3      4.120211\n",
       "4      3.745864\n",
       "         ...   \n",
       "104    4.770288\n",
       "105    4.496571\n",
       "106    4.838717\n",
       "107    5.084257\n",
       "108    5.108408\n",
       "Length: 109, dtype: float64"
      ]
     },
     "execution_count": 31,
     "metadata": {},
     "output_type": "execute_result"
    }
   ],
   "source": [
    "print(model3.conf_int(0.01)) \n",
    "pred_log = model3.predict(pd.DataFrame(wcat['Waist']))\n",
    "pred_log"
   ]
  },
  {
   "cell_type": "code",
   "execution_count": 32,
   "metadata": {},
   "outputs": [
    {
     "data": {
      "text/plain": [
       "0       42.516361\n",
       "1       38.991601\n",
       "2       56.467684\n",
       "3       61.572246\n",
       "4       42.345566\n",
       "          ...    \n",
       "104    117.953181\n",
       "105     89.709020\n",
       "106    126.307181\n",
       "107    161.459872\n",
       "108    165.406833\n",
       "Length: 109, dtype: float64"
      ]
     },
     "execution_count": 32,
     "metadata": {},
     "output_type": "execute_result"
    }
   ],
   "source": [
    "pred3=np.exp(pred_log)  # as we have used log(AT) in preparing model so we need to convert it back\n",
    "pred3"
   ]
  },
  {
   "cell_type": "code",
   "execution_count": 33,
   "metadata": {},
   "outputs": [
    {
     "data": {
      "image/png": "[encoded data removed]",
      "text/plain": [
       "<Figure size 432x288 with 1 Axes>"
      ]
     },
     "metadata": {
      "needs_background": "light"
     },
     "output_type": "display_data"
    }
   ],
   "source": [
    "pred3.corr(wcat.AT)\n",
    "plt.scatter(x=wcat['Waist'],y=wcat['AT'],color='green');plt.plot(wcat.Waist,np.exp(pred_log),color='blue');plt.xlabel('WAIST');plt.ylabel('TISSUE')\n",
    "resid_3 = pred3-wcat.AT"
   ]
  },
  {
   "cell_type": "code",
   "execution_count": 34,
   "metadata": {},
   "outputs": [
    {
     "data": {
      "text/plain": [
       "Text(0, 0.5, 'Standardized Residual')"
      ]
     },
     "execution_count": 34,
     "metadata": {},
     "output_type": "execute_result"
    },
    {
     "data": {
      "image/png": "[encoded data removed]",
      "text/plain": [
       "<Figure size 432x288 with 1 Axes>"
      ]
     },
     "metadata": {
      "needs_background": "light"
     },
     "output_type": "display_data"
    }
   ],
   "source": [
    "# so we will consider the model having highest R-Squared value which is the log transformation - model3\n",
    "# getting residuals of the entire data set\n",
    "student_resid = model3.resid_pearson \n",
    "student_resid\n",
    "plt.plot(model3.resid_pearson,'o');plt.axhline(y=0,color='green');plt.xlabel(\"Observation Number\");plt.ylabel(\"Standardized Residual\")"
   ]
  },
  {
   "cell_type": "code",
   "execution_count": 35,
   "metadata": {},
   "outputs": [
    {
     "data": {
      "text/plain": [
       "Text(0, 0.5, 'Actual')"
      ]
     },
     "execution_count": 35,
     "metadata": {},
     "output_type": "execute_result"
    },
    {
     "data": {
      "image/png": "[encoded data removed]",
      "text/plain": [
       "<Figure size 432x288 with 1 Axes>"
      ]
     },
     "metadata": {
      "needs_background": "light"
     },
     "output_type": "display_data"
    }
   ],
   "source": [
    "# Predicted vs actual values\n",
    "plt.scatter(x=pred3,y=wcat.AT);plt.xlabel(\"Predicted\");plt.ylabel(\"Actual\")"
   ]
  },
  {
   "cell_type": "code",
   "execution_count": 37,
   "metadata": {},
   "outputs": [
    {
     "data": {
      "text/plain": [
       "Intercept   -466.288707\n",
       "Waist          8.970879\n",
       "Waist_Sq      -0.029700\n",
       "dtype: float64"
      ]
     },
     "execution_count": 37,
     "metadata": {},
     "output_type": "execute_result"
    }
   ],
   "source": [
    "# Quadratic model\n",
    "wcat[\"Waist_Sq\"] = wcat.Waist*wcat.Waist\n",
    "model_quad = smf.ols(\"AT~Waist+Waist_Sq\",data=wcat).fit()\n",
    "model_quad.params\n"
   ]
  },
  {
   "cell_type": "code",
   "execution_count": 39,
   "metadata": {},
   "outputs": [
    {
     "data": {
      "text/html": [
       "<table class=\"simpletable\">\n",
       "<caption>OLS Regression Results</caption>\n",
       "<tr>\n",
       "  <th>Dep. Variable:</th>           <td>AT</td>        <th>  R-squared:         </th> <td>   0.678</td>\n",
       "</tr>\n",
       "<tr>\n",
       "  <th>Model:</th>                   <td>OLS</td>       <th>  Adj. R-squared:    </th> <td>   0.672</td>\n",
       "</tr>\n",
       "<tr>\n",
       "  <th>Method:</th>             <td>Least Squares</td>  <th>  F-statistic:       </th> <td>   111.6</td>\n",
       "</tr>\n",
       "<tr>\n",
       "  <th>Date:</th>             <td>Wed, 05 Aug 2020</td> <th>  Prob (F-statistic):</th> <td>8.37e-27</td>\n",
       "</tr>\n",
       "<tr>\n",
       "  <th>Time:</th>                 <td>08:54:37</td>     <th>  Log-Likelihood:    </th> <td> -533.67</td>\n",
       "</tr>\n",
       "<tr>\n",
       "  <th>No. Observations:</th>      <td>   109</td>      <th>  AIC:               </th> <td>   1073.</td>\n",
       "</tr>\n",
       "<tr>\n",
       "  <th>Df Residuals:</th>          <td>   106</td>      <th>  BIC:               </th> <td>   1081.</td>\n",
       "</tr>\n",
       "<tr>\n",
       "  <th>Df Model:</th>              <td>     2</td>      <th>                     </th>     <td> </td>   \n",
       "</tr>\n",
       "<tr>\n",
       "  <th>Covariance Type:</th>      <td>nonrobust</td>    <th>                     </th>     <td> </td>   \n",
       "</tr>\n",
       "</table>\n",
       "<table class=\"simpletable\">\n",
       "<tr>\n",
       "      <td></td>         <th>coef</th>     <th>std err</th>      <th>t</th>      <th>P>|t|</th>  <th>[0.025</th>    <th>0.975]</th>  \n",
       "</tr>\n",
       "<tr>\n",
       "  <th>Intercept</th> <td> -466.2887</td> <td>  156.964</td> <td>   -2.971</td> <td> 0.004</td> <td> -777.485</td> <td> -155.092</td>\n",
       "</tr>\n",
       "<tr>\n",
       "  <th>Waist</th>     <td>    8.9709</td> <td>    3.431</td> <td>    2.614</td> <td> 0.010</td> <td>    2.168</td> <td>   15.774</td>\n",
       "</tr>\n",
       "<tr>\n",
       "  <th>Waist_Sq</th>  <td>   -0.0297</td> <td>    0.018</td> <td>   -1.610</td> <td> 0.110</td> <td>   -0.066</td> <td>    0.007</td>\n",
       "</tr>\n",
       "</table>\n",
       "<table class=\"simpletable\">\n",
       "<tr>\n",
       "  <th>Omnibus:</th>       <td> 3.682</td> <th>  Durbin-Watson:     </th> <td>   1.620</td>\n",
       "</tr>\n",
       "<tr>\n",
       "  <th>Prob(Omnibus):</th> <td> 0.159</td> <th>  Jarque-Bera (JB):  </th> <td>   3.054</td>\n",
       "</tr>\n",
       "<tr>\n",
       "  <th>Skew:</th>          <td> 0.338</td> <th>  Prob(JB):          </th> <td>   0.217</td>\n",
       "</tr>\n",
       "<tr>\n",
       "  <th>Kurtosis:</th>      <td> 3.465</td> <th>  Cond. No.          </th> <td>4.49e+05</td>\n",
       "</tr>\n",
       "</table><br/><br/>Warnings:<br/>[1] Standard Errors assume that the covariance matrix of the errors is correctly specified.<br/>[2] The condition number is large, 4.49e+05. This might indicate that there are<br/>strong multicollinearity or other numerical problems."
      ],
      "text/plain": [
       "<class 'statsmodels.iolib.summary.Summary'>\n",
       "\"\"\"\n",
       "                            OLS Regression Results                            \n",
       "==============================================================================\n",
       "Dep. Variable:                     AT   R-squared:                       0.678\n",
       "Model:                            OLS   Adj. R-squared:                  0.672\n",
       "Method:                 Least Squares   F-statistic:                     111.6\n",
       "Date:                Wed, 05 Aug 2020   Prob (F-statistic):           8.37e-27\n",
       "Time:                        08:54:37   Log-Likelihood:                -533.67\n",
       "No. Observations:                 109   AIC:                             1073.\n",
       "Df Residuals:                     106   BIC:                             1081.\n",
       "Df Model:                           2                                         \n",
       "Covariance Type:            nonrobust                                         \n",
       "==============================================================================\n",
       "                 coef    std err          t      P>|t|      [0.025      0.975]\n",
       "------------------------------------------------------------------------------\n",
       "Intercept   -466.2887    156.964     -2.971      0.004    -777.485    -155.092\n",
       "Waist          8.9709      3.431      2.614      0.010       2.168      15.774\n",
       "Waist_Sq      -0.0297      0.018     -1.610      0.110      -0.066       0.007\n",
       "==============================================================================\n",
       "Omnibus:                        3.682   Durbin-Watson:                   1.620\n",
       "Prob(Omnibus):                  0.159   Jarque-Bera (JB):                3.054\n",
       "Skew:                           0.338   Prob(JB):                        0.217\n",
       "Kurtosis:                       3.465   Cond. No.                     4.49e+05\n",
       "==============================================================================\n",
       "\n",
       "Warnings:\n",
       "[1] Standard Errors assume that the covariance matrix of the errors is correctly specified.\n",
       "[2] The condition number is large, 4.49e+05. This might indicate that there are\n",
       "strong multicollinearity or other numerical problems.\n",
       "\"\"\""
      ]
     },
     "execution_count": 39,
     "metadata": {},
     "output_type": "execute_result"
    }
   ],
   "source": [
    "model_quad.summary()\n"
   ]
  },
  {
   "cell_type": "code",
   "execution_count": 40,
   "metadata": {},
   "outputs": [
    {
     "data": {
      "image/png": "[encoded data removed]",
      "text/plain": [
       "<Figure size 432x288 with 1 Axes>"
      ]
     },
     "metadata": {
      "needs_background": "light"
     },
     "output_type": "display_data"
    }
   ],
   "source": [
    "\n",
    "############################### Implementing the Linear Regression model from sklearn library\n",
    "\n",
    "from sklearn.linear_model import LinearRegression\n",
    "import numpy as np\n",
    "plt.scatter(wcat.Waist,wcat.AT)\n",
    "model1 = LinearRegression()"
   ]
  },
  {
   "cell_type": "code",
   "execution_count": 41,
   "metadata": {},
   "outputs": [],
   "source": [
    "model1.fit(wcat.Waist.values.reshape(-1,1),wcat.AT)\n",
    "pred1 = model1.predict(wcat.Waist.values.reshape(-1,1))"
   ]
  },
  {
   "cell_type": "code",
   "execution_count": 42,
   "metadata": {},
   "outputs": [
    {
     "data": {
      "text/plain": [
       "-215.98148796164253"
      ]
     },
     "execution_count": 42,
     "metadata": {},
     "output_type": "execute_result"
    }
   ],
   "source": [
    "# Adjusted R-Squared value\n",
    "model1.score(wcat.Waist.values.reshape(-1,1),wcat.AT)# 0.6700\n",
    "rmse1 = np.sqrt(np.mean((pred1-wcat.AT)**2)) # 32.760\n",
    "model1.coef_\n",
    "model1.intercept_"
   ]
  },
  {
   "cell_type": "code",
   "execution_count": 43,
   "metadata": {},
   "outputs": [
    {
     "data": {
      "text/plain": [
       "<matplotlib.collections.LineCollection at 0x1d55f313108>"
      ]
     },
     "execution_count": 43,
     "metadata": {},
     "output_type": "execute_result"
    },
    {
     "data": {
      "image/png": "[encoded data removed]",
      "text/plain": [
       "<Figure size 432x288 with 1 Axes>"
      ]
     },
     "metadata": {
      "needs_background": "light"
     },
     "output_type": "display_data"
    }
   ],
   "source": [
    "#### Residuals Vs Fitted values\n",
    "import matplotlib.pyplot as plt\n",
    "plt.scatter(pred1,(pred1-wcat.AT),c=\"r\")\n",
    "plt.hlines(y=0,xmin=0,xmax=300)"
   ]
  },
  {
   "cell_type": "code",
   "execution_count": 44,
   "metadata": {},
   "outputs": [
    {
     "data": {
      "text/plain": [
       "(array([ 3.,  8.,  6., 14., 33., 27., 14.,  2.,  0.,  2.]),\n",
       " array([-90.34239241, -70.57934363, -50.81629486, -31.05324609,\n",
       "        -11.29019731,   8.47285146,  28.23590023,  47.99894901,\n",
       "         67.76199778,  87.52504655, 107.28809533]),\n",
       " <a list of 10 Patch objects>)"
      ]
     },
     "execution_count": 44,
     "metadata": {},
     "output_type": "execute_result"
    },
    {
     "data": {
      "image/png": "[encoded data removed]",
      "text/plain": [
       "<Figure size 432x288 with 1 Axes>"
      ]
     },
     "metadata": {
      "needs_background": "light"
     },
     "output_type": "display_data"
    }
   ],
   "source": [
    "# checking normal distribution for residual\n",
    "plt.hist(pred1-wcat.AT)\n"
   ]
  },
  {
   "cell_type": "code",
   "execution_count": 46,
   "metadata": {},
   "outputs": [],
   "source": [
    "### Fitting Quadratic Regression \n",
    "wcat[\"Waist_sqrd\"] = wcat.Waist*wcat.Waist\n",
    "model2 = LinearRegression()\n",
    "model2.fit(X = wcat.iloc[:,[0,2]],y=wcat.AT)\n",
    "pred2 = model2.predict(wcat.iloc[:,[0,2]])"
   ]
  },
  {
   "cell_type": "code",
   "execution_count": 47,
   "metadata": {},
   "outputs": [
    {
     "data": {
      "text/plain": [
       "-466.2887065515865"
      ]
     },
     "execution_count": 47,
     "metadata": {},
     "output_type": "execute_result"
    }
   ],
   "source": [
    "# Adjusted R-Squared value\n",
    "model2.score(wcat.iloc[:,[0,2]],wcat.AT)# 0.67791\n",
    "rmse2 = np.sqrt(np.mean((pred2-wcat.AT)**2)) # 32.366\n",
    "model2.coef_\n",
    "model2.intercept_"
   ]
  },
  {
   "cell_type": "code",
   "execution_count": 48,
   "metadata": {},
   "outputs": [
    {
     "data": {
      "text/plain": [
       "<matplotlib.collections.LineCollection at 0x1d55f405f48>"
      ]
     },
     "execution_count": 48,
     "metadata": {},
     "output_type": "execute_result"
    },
    {
     "data": {
      "image/png": "[encoded data removed]",
      "text/plain": [
       "<Figure size 432x288 with 1 Axes>"
      ]
     },
     "metadata": {
      "needs_background": "light"
     },
     "output_type": "display_data"
    }
   ],
   "source": [
    "#### Residuals Vs Fitted values\n",
    "import matplotlib.pyplot as plt\n",
    "plt.scatter(pred2,(pred2-wcat.AT),c=\"r\")\n",
    "plt.hlines(y=0,xmin=0,xmax=200) "
   ]
  },
  {
   "cell_type": "code",
   "execution_count": 49,
   "metadata": {},
   "outputs": [
    {
     "data": {
      "text/plain": [
       "((array([-2.49269012, -2.16005351, -1.96810538, -1.829376  , -1.71891041,\n",
       "         -1.62614848, -1.54558238, -1.4739582 , -1.40918581, -1.34983904,\n",
       "         -1.2948992 , -1.24361202, -1.19540258, -1.14982207, -1.10651298,\n",
       "         -1.06518563, -1.02560179, -0.98756301, -0.95090206, -0.9154766 ,\n",
       "         -0.88116436, -0.84785944, -0.81546946, -0.78391323, -0.75311899,\n",
       "         -0.72302293, -0.69356797, -0.66470285, -0.63638125, -0.60856118,\n",
       "         -0.58120436, -0.55427579, -0.52774332, -0.5015773 , -0.47575031,\n",
       "         -0.45023686, -0.42501321, -0.40005714, -0.3753478 , -0.35086557,\n",
       "         -0.32659187, -0.30250912, -0.27860058, -0.25485026, -0.23124286,\n",
       "         -0.20776364, -0.18439842, -0.16113345, -0.13795538, -0.1148512 ,\n",
       "         -0.09180817, -0.06881379, -0.04585574, -0.02292185,  0.        ,\n",
       "          0.02292185,  0.04585574,  0.06881379,  0.09180817,  0.1148512 ,\n",
       "          0.13795538,  0.16113345,  0.18439842,  0.20776364,  0.23124286,\n",
       "          0.25485026,  0.27860058,  0.30250912,  0.32659187,  0.35086557,\n",
       "          0.3753478 ,  0.40005714,  0.42501321,  0.45023686,  0.47575031,\n",
       "          0.5015773 ,  0.52774332,  0.55427579,  0.58120436,  0.60856118,\n",
       "          0.63638125,  0.66470285,  0.69356797,  0.72302293,  0.75311899,\n",
       "          0.78391323,  0.81546946,  0.84785944,  0.88116436,  0.9154766 ,\n",
       "          0.95090206,  0.98756301,  1.02560179,  1.06518563,  1.10651298,\n",
       "          1.14982207,  1.19540258,  1.24361202,  1.2948992 ,  1.34983904,\n",
       "          1.40918581,  1.4739582 ,  1.54558238,  1.62614848,  1.71891041,\n",
       "          1.829376  ,  1.96810538,  2.16005351,  2.49269012]),\n",
       "  array([-9.00881444e+01, -8.04241330e+01, -7.00828776e+01, -6.83005106e+01,\n",
       "         -6.08581155e+01, -6.06544857e+01, -5.68124259e+01, -5.33842842e+01,\n",
       "         -5.25327773e+01, -5.21139739e+01, -5.12027273e+01, -5.05877336e+01,\n",
       "         -5.05655156e+01, -4.58869380e+01, -4.52127160e+01, -3.89665192e+01,\n",
       "         -3.85557758e+01, -3.33322019e+01, -2.78369510e+01, -2.55877336e+01,\n",
       "         -2.29580734e+01, -2.28511496e+01, -2.11755397e+01, -2.08983486e+01,\n",
       "         -1.84711728e+01, -1.72027273e+01, -1.38276547e+01, -1.27203388e+01,\n",
       "         -1.25636044e+01, -1.24434297e+01, -1.12082153e+01, -9.34876833e+00,\n",
       "         -7.43430152e+00, -6.77178241e+00, -6.55086619e+00, -6.20384568e+00,\n",
       "         -6.04660609e+00, -5.88866104e+00, -4.77178241e+00, -4.39699953e+00,\n",
       "         -3.26436465e+00, -3.14150369e+00, -2.88693795e+00, -2.82491431e+00,\n",
       "         -2.43277705e+00, -1.58773362e+00, -9.81729050e-01, -1.86507785e-01,\n",
       "         -8.81444402e-02, -5.37620926e-02,  1.42273747e+00,  1.57113024e+00,\n",
       "          2.19308341e+00,  2.56392601e+00,  2.57173977e+00,  3.14173977e+00,\n",
       "          3.26342329e+00,  3.54957400e+00,  4.21355276e+00,  4.40019840e+00,\n",
       "          6.15539896e+00,  6.65343427e+00,  6.91111092e+00,  7.88913524e+00,\n",
       "          8.03882041e+00,  8.13431108e+00,  8.55552518e+00,  1.00989392e+01,\n",
       "          1.07961543e+01,  1.11156434e+01,  1.20401910e+01,  1.25216514e+01,\n",
       "          1.26121858e+01,  1.27389905e+01,  1.27634994e+01,  1.28347957e+01,\n",
       "          1.36213076e+01,  1.41931935e+01,  1.45711302e+01,  1.47823508e+01,\n",
       "          1.74158666e+01,  1.84442242e+01,  2.16677981e+01,  2.32077402e+01,\n",
       "          2.37785213e+01,  2.44363956e+01,  2.44587892e+01,  2.48225515e+01,\n",
       "          2.54474811e+01,  2.61973274e+01,  2.85672229e+01,  3.24947070e+01,\n",
       "          3.36213076e+01,  3.39058957e+01,  3.47006433e+01,  3.51343111e+01,\n",
       "          3.52782176e+01,  3.58177748e+01,  3.59925515e+01,  3.72487858e+01,\n",
       "          3.75090698e+01,  3.89118556e+01,  4.23203499e+01,  4.25414235e+01,\n",
       "          4.99564228e+01,  5.10777402e+01,  6.55665703e+01,  7.63478303e+01,\n",
       "          9.13805332e+01])),\n",
       " (32.47056940722743, 2.2748490433872635e-14, 0.9845110266579481))"
      ]
     },
     "execution_count": 49,
     "metadata": {},
     "output_type": "execute_result"
    },
    {
     "data": {
      "image/png": "[encoded data removed]",
      "text/plain": [
       "<Figure size 432x288 with 1 Axes>"
      ]
     },
     "metadata": {
      "needs_background": "light"
     },
     "output_type": "display_data"
    }
   ],
   "source": [
    "# Checking normal distribution\n",
    "plt.hist(pred2-wcat.AT)\n",
    "import pylab\n",
    "import scipy.stats as st\n",
    "st.probplot(pred2-wcat.AT,dist=\"norm\",plot=pylab)"
   ]
  },
  {
   "cell_type": "code",
   "execution_count": 50,
   "metadata": {},
   "outputs": [],
   "source": [
    "# Let us prepare a model by applying transformation on dependent variable\n",
    "wcat[\"AT_sqrt\"] = np.sqrt(wcat.AT)\n",
    "\n",
    "model3 = LinearRegression()\n",
    "model3.fit(X = wcat.iloc[:,[0,2]],y=wcat.AT_sqrt)\n",
    "pred3 = model3.predict(wcat.iloc[:,[0,2]])"
   ]
  },
  {
   "cell_type": "code",
   "execution_count": 51,
   "metadata": {},
   "outputs": [
    {
     "data": {
      "text/plain": [
       "-32.0138693571079"
      ]
     },
     "execution_count": 51,
     "metadata": {},
     "output_type": "execute_result"
    }
   ],
   "source": [
    "# Adjusted R-Squared value\n",
    "model3.score(wcat.iloc[:,[0,2]],wcat.AT_sqrt)# 0.74051\n",
    "rmse3 = np.sqrt(np.mean(((pred3)**2-wcat.AT)**2)) # 32.0507\n",
    "model3.coef_\n",
    "model3.intercept_"
   ]
  },
  {
   "cell_type": "code",
   "execution_count": 52,
   "metadata": {},
   "outputs": [
    {
     "data": {
      "text/plain": [
       "<matplotlib.collections.LineCollection at 0x1d55f539d08>"
      ]
     },
     "execution_count": 52,
     "metadata": {},
     "output_type": "execute_result"
    },
    {
     "data": {
      "image/png": "[encoded data removed]",
      "text/plain": [
       "<Figure size 432x288 with 1 Axes>"
      ]
     },
     "metadata": {
      "needs_background": "light"
     },
     "output_type": "display_data"
    }
   ],
   "source": [
    "#### Residuals Vs Fitted values\n",
    "import matplotlib.pyplot as plt\n",
    "plt.scatter((pred3)**2,((pred3)**2-wcat.AT),c=\"r\")\n",
    "plt.hlines(y=0,xmin=0,xmax=300)  "
   ]
  },
  {
   "cell_type": "code",
   "execution_count": 53,
   "metadata": {},
   "outputs": [
    {
     "data": {
      "text/plain": [
       "((array([-2.49269012, -2.16005351, -1.96810538, -1.829376  , -1.71891041,\n",
       "         -1.62614848, -1.54558238, -1.4739582 , -1.40918581, -1.34983904,\n",
       "         -1.2948992 , -1.24361202, -1.19540258, -1.14982207, -1.10651298,\n",
       "         -1.06518563, -1.02560179, -0.98756301, -0.95090206, -0.9154766 ,\n",
       "         -0.88116436, -0.84785944, -0.81546946, -0.78391323, -0.75311899,\n",
       "         -0.72302293, -0.69356797, -0.66470285, -0.63638125, -0.60856118,\n",
       "         -0.58120436, -0.55427579, -0.52774332, -0.5015773 , -0.47575031,\n",
       "         -0.45023686, -0.42501321, -0.40005714, -0.3753478 , -0.35086557,\n",
       "         -0.32659187, -0.30250912, -0.27860058, -0.25485026, -0.23124286,\n",
       "         -0.20776364, -0.18439842, -0.16113345, -0.13795538, -0.1148512 ,\n",
       "         -0.09180817, -0.06881379, -0.04585574, -0.02292185,  0.        ,\n",
       "          0.02292185,  0.04585574,  0.06881379,  0.09180817,  0.1148512 ,\n",
       "          0.13795538,  0.16113345,  0.18439842,  0.20776364,  0.23124286,\n",
       "          0.25485026,  0.27860058,  0.30250912,  0.32659187,  0.35086557,\n",
       "          0.3753478 ,  0.40005714,  0.42501321,  0.45023686,  0.47575031,\n",
       "          0.5015773 ,  0.52774332,  0.55427579,  0.58120436,  0.60856118,\n",
       "          0.63638125,  0.66470285,  0.69356797,  0.72302293,  0.75311899,\n",
       "          0.78391323,  0.81546946,  0.84785944,  0.88116436,  0.9154766 ,\n",
       "          0.95090206,  0.98756301,  1.02560179,  1.06518563,  1.10651298,\n",
       "          1.14982207,  1.19540258,  1.24361202,  1.2948992 ,  1.34983904,\n",
       "          1.40918581,  1.4739582 ,  1.54558238,  1.62614848,  1.71891041,\n",
       "          1.829376  ,  1.96810538,  2.16005351,  2.49269012]),\n",
       "  array([-91.19381895, -86.26711035, -73.57461719, -72.52537398,\n",
       "         -72.10328279, -62.47509089, -57.63811625, -56.73004599,\n",
       "         -54.90679606, -54.75137366, -53.69869852, -52.37693069,\n",
       "         -52.11313314, -49.09643273, -40.43971799, -39.4132869 ,\n",
       "         -36.83691983, -35.3121876 , -27.37693069, -27.21166212,\n",
       "         -26.49371233, -24.83987695, -22.88072178, -22.83292909,\n",
       "         -18.21795272, -18.11313314, -16.51046841, -14.73275353,\n",
       "         -14.14972979, -13.77007249,  -9.57594648,  -9.00028008,\n",
       "          -8.7958762 ,  -8.73924431,  -8.12535055,  -7.22795017,\n",
       "          -7.00028008,  -6.09643273,  -6.0535677 ,  -6.04572127,\n",
       "          -5.09442996,  -4.99383111,  -4.44236987,  -3.45288527,\n",
       "          -3.37693069,  -2.96628198,  -1.83955819,  -1.81266929,\n",
       "          -1.58778008,  -1.34047748,  -1.24266929,  -1.19381895,\n",
       "          -0.42671182,  -0.12557702,   0.21741361,   0.28248116,\n",
       "           0.29740644,   2.35805716,   2.39072947,   2.59301689,\n",
       "           4.3541149 ,   4.59992433,   5.30377014,   5.71553705,\n",
       "           6.27171146,   6.35271241,   7.68308347,   8.51901499,\n",
       "           8.58012305,   8.90540048,   9.08809462,   9.6326479 ,\n",
       "           9.77204983,  11.15891024,  11.16044181,  11.20713649,\n",
       "          11.89727577,  12.15693164,  12.69999078,  12.79868423,\n",
       "          15.10339959,  17.5867131 ,  19.52244134,  19.6878124 ,\n",
       "          20.77725508,  21.19520333,  21.69061416,  21.97178287,\n",
       "          22.25719633,  22.85027021,  27.54711473,  28.7721184 ,\n",
       "          30.30968711,  31.94725508,  32.18779351,  32.71553705,\n",
       "          32.79868423,  33.04971992,  33.83757884,  34.31623507,\n",
       "          34.46527643,  37.80618105,  37.93928948,  39.60519589,\n",
       "          47.39176281,  50.12719633,  64.23992751,  64.98002811,\n",
       "          80.41594884])),\n",
       " (31.988851950544724, -2.1655746599798413, 0.9817128504125924))"
      ]
     },
     "execution_count": 53,
     "metadata": {},
     "output_type": "execute_result"
    },
    {
     "data": {
      "image/png": "[encoded data removed]",
      "text/plain": [
       "<Figure size 432x288 with 1 Axes>"
      ]
     },
     "metadata": {
      "needs_background": "light"
     },
     "output_type": "display_data"
    }
   ],
   "source": [
    "# checking normal distribution for residuals \n",
    "plt.hist((pred3)**2-wcat.AT)\n",
    "st.probplot((pred3)**2-wcat.AT,dist=\"norm\",plot=pylab)"
   ]
  },
  {
   "cell_type": "code",
   "execution_count": 54,
   "metadata": {},
   "outputs": [],
   "source": [
    "# Let us prepare a model by applying transformation on dependent variable without transformation on input variables \n",
    "model4 = LinearRegression()\n",
    "model4.fit(X = wcat.Waist.values.reshape(-1,1),y=wcat.AT_sqrt)\n",
    "pred4 = model4.predict(wcat.Waist.values.reshape(-1,1))"
   ]
  },
  {
   "cell_type": "code",
   "execution_count": 55,
   "metadata": {},
   "outputs": [
    {
     "data": {
      "text/plain": [
       "-6.898398342272843"
      ]
     },
     "execution_count": 55,
     "metadata": {},
     "output_type": "execute_result"
    }
   ],
   "source": [
    "# Adjusted R-Squared value\n",
    "model4.score(wcat.Waist.values.reshape(-1,1),wcat.AT_sqrt)# 0.7096\n",
    "rmse4 = np.sqrt(np.mean(((pred4)**2-wcat.AT)**2)) # 34.165\n",
    "model4.coef_\n",
    "model4.intercept_"
   ]
  },
  {
   "cell_type": "code",
   "execution_count": 56,
   "metadata": {},
   "outputs": [
    {
     "data": {
      "text/plain": [
       "((array([-2.49269012, -2.16005351, -1.96810538, -1.829376  , -1.71891041,\n",
       "         -1.62614848, -1.54558238, -1.4739582 , -1.40918581, -1.34983904,\n",
       "         -1.2948992 , -1.24361202, -1.19540258, -1.14982207, -1.10651298,\n",
       "         -1.06518563, -1.02560179, -0.98756301, -0.95090206, -0.9154766 ,\n",
       "         -0.88116436, -0.84785944, -0.81546946, -0.78391323, -0.75311899,\n",
       "         -0.72302293, -0.69356797, -0.66470285, -0.63638125, -0.60856118,\n",
       "         -0.58120436, -0.55427579, -0.52774332, -0.5015773 , -0.47575031,\n",
       "         -0.45023686, -0.42501321, -0.40005714, -0.3753478 , -0.35086557,\n",
       "         -0.32659187, -0.30250912, -0.27860058, -0.25485026, -0.23124286,\n",
       "         -0.20776364, -0.18439842, -0.16113345, -0.13795538, -0.1148512 ,\n",
       "         -0.09180817, -0.06881379, -0.04585574, -0.02292185,  0.        ,\n",
       "          0.02292185,  0.04585574,  0.06881379,  0.09180817,  0.1148512 ,\n",
       "          0.13795538,  0.16113345,  0.18439842,  0.20776364,  0.23124286,\n",
       "          0.25485026,  0.27860058,  0.30250912,  0.32659187,  0.35086557,\n",
       "          0.3753478 ,  0.40005714,  0.42501321,  0.45023686,  0.47575031,\n",
       "          0.5015773 ,  0.52774332,  0.55427579,  0.58120436,  0.60856118,\n",
       "          0.63638125,  0.66470285,  0.69356797,  0.72302293,  0.75311899,\n",
       "          0.78391323,  0.81546946,  0.84785944,  0.88116436,  0.9154766 ,\n",
       "          0.95090206,  0.98756301,  1.02560179,  1.06518563,  1.10651298,\n",
       "          1.14982207,  1.19540258,  1.24361202,  1.2948992 ,  1.34983904,\n",
       "          1.40918581,  1.4739582 ,  1.54558238,  1.62614848,  1.71891041,\n",
       "          1.829376  ,  1.96810538,  2.16005351,  2.49269012]),\n",
       "  array([-9.18176507e+01, -7.99698038e+01, -6.58512166e+01, -6.49731551e+01,\n",
       "         -6.43437799e+01, -6.38352196e+01, -6.15436472e+01, -6.13664459e+01,\n",
       "         -6.00274940e+01, -5.95706503e+01, -5.88785705e+01, -5.09072058e+01,\n",
       "         -5.03317015e+01, -4.76031627e+01, -4.34966492e+01, -3.37265418e+01,\n",
       "         -3.14637061e+01, -2.93114998e+01, -2.90091486e+01, -2.65321278e+01,\n",
       "         -2.62931432e+01, -2.60274940e+01, -2.53574947e+01, -2.48250014e+01,\n",
       "         -2.46388919e+01, -2.33056593e+01, -2.26031627e+01, -2.24350599e+01,\n",
       "         -2.01701527e+01, -1.81701527e+01, -1.73782654e+01, -1.65706503e+01,\n",
       "         -1.60744015e+01, -1.40562885e+01, -1.23806208e+01, -1.00895362e+01,\n",
       "         -9.06122932e+00, -8.55195891e+00, -7.95144086e+00, -7.47979259e+00,\n",
       "         -6.73458054e+00, -6.59105338e+00, -6.02105338e+00, -5.25413017e+00,\n",
       "         -5.01178298e+00, -4.90020929e+00, -4.79396321e+00, -4.19405869e+00,\n",
       "         -2.28530586e+00, -1.81765069e+00, -1.74315336e+00, -1.51974430e+00,\n",
       "         -1.12010374e+00,  2.45439849e-02,  3.27363366e-01,  9.25598539e-01,\n",
       "          1.25302029e+00,  1.39683727e+00,  1.47583409e+00,  1.78210855e+00,\n",
       "          2.40332720e+00,  3.18711509e+00,  5.08443384e+00,  6.37423888e+00,\n",
       "          7.12685676e+00,  7.26138210e+00,  7.46988023e+00,  8.46747856e+00,\n",
       "          8.47141697e+00,  9.27181642e+00,  1.06725781e+01,  1.08048074e+01,\n",
       "          1.14802557e+01,  1.18152513e+01,  1.21749986e+01,  1.24484737e+01,\n",
       "          1.32124160e+01,  1.35033508e+01,  1.43205913e+01,  1.50021320e+01,\n",
       "          1.63597537e+01,  1.67508757e+01,  1.75693541e+01,  1.78323590e+01,\n",
       "          1.87798347e+01,  1.88606581e+01,  1.90322482e+01,  1.98103398e+01,\n",
       "          2.09406608e+01,  2.18798473e+01,  2.34910735e+01,  2.42720983e+01,\n",
       "          2.50692322e+01,  2.56885002e+01,  2.59882170e+01,  2.72613821e+01,\n",
       "          2.81402372e+01,  3.00306581e+01,  3.32651157e+01,  3.60666583e+01,\n",
       "          3.62885200e+01,  3.64847235e+01,  3.71823493e+01,  4.13205913e+01,\n",
       "          4.76803398e+01,  5.10177028e+01,  6.56293792e+01,  1.10686469e+02,\n",
       "          1.24686904e+02])),\n",
       " (33.765997013008736, -2.423508011853112, 0.9723457374138194))"
      ]
     },
     "execution_count": 56,
     "metadata": {},
     "output_type": "execute_result"
    },
    {
     "data": {
      "image/png": "[encoded data removed]",
      "text/plain": [
       "<Figure size 432x288 with 1 Axes>"
      ]
     },
     "metadata": {
      "needs_background": "light"
     },
     "output_type": "display_data"
    }
   ],
   "source": [
    "#### Residuals Vs Fitted values\n",
    "import matplotlib.pyplot as plt\n",
    "plt.scatter((pred4)**2,((pred4)**2-wcat.AT),c=\"r\")\n",
    "plt.hlines(y=0,xmin=0,xmax=300)  \n",
    "\n",
    "st.probplot((pred4)**2-wcat.AT,dist=\"norm\",plot=pylab)"
   ]
  },
  {
   "cell_type": "code",
   "execution_count": 57,
   "metadata": {},
   "outputs": [
    {
     "data": {
      "text/plain": [
       "(array([ 2., 11.,  6., 25., 37., 22.,  3.,  1.,  0.,  2.]),\n",
       " array([-91.81765069, -70.16719522, -48.51673975, -26.86628428,\n",
       "         -5.21582881,  16.43462666,  38.08508212,  59.73553759,\n",
       "         81.38599306, 103.03644853, 124.686904  ]),\n",
       " <a list of 10 Patch objects>)"
      ]
     },
     "execution_count": 57,
     "metadata": {},
     "output_type": "execute_result"
    },
    {
     "data": {
      "image/png": "[encoded data removed]",
      "text/plain": [
       "<Figure size 432x288 with 1 Axes>"
      ]
     },
     "metadata": {
      "needs_background": "light"
     },
     "output_type": "display_data"
    }
   ],
   "source": [
    "# Checking normal distribution for residuals \n",
    "plt.hist((pred4)**2-wcat.AT)"
   ]
  },
  {
   "cell_type": "code",
   "execution_count": null,
   "metadata": {},
   "outputs": [],
   "source": []
  }
 ],
 "metadata": {
  "kernelspec": {
   "display_name": "Python 3",
   "language": "python",
   "name": "python3"
  },
  "language_info": {
   "codemirror_mode": {
    "name": "ipython",
    "version": 3
   },
   "file_extension": ".py",
   "mimetype": "text/x-python",
   "name": "python",
   "nbconvert_exporter": "python",
   "pygments_lexer": "ipython3",
   "version": "3.7.6"
  }
 },
 "nbformat": 4,
 "nbformat_minor": 4
}
